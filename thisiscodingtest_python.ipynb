{
 "cells": [
  {
   "cell_type": "markdown",
   "metadata": {},
   "source": [
    "<h3>모험가 길드</h3>\n",
    "\n",
    "한 마을에 모험가가 N명 있습니다. 모험가 길드에서는 N명의 모험가를 대상으로 '공포도'를 측정했는데,\n",
    "\n",
    "'공포도'가 높은 모험가는 쉽게 공포를 느껴 위험 상황에서 제대로 대처할 능력이 떨어집니다.\n",
    "\n",
    "모험가 길드장인 동빈이는 모험가 그룹을 안전하게 구성하고자 공포도가 X인 모험가는 반드시 X명 이상으로\n",
    "\n",
    "구성한 모험가 그룹에 참여해야 여행을 떠날 수 있도록 규정했습니다.\n",
    "\n",
    "동빈이는 최대 몇 개의 모험가 그룹을 만들 수 있는지 궁금합니다. N명의 모험가에 대한 정보가 주어졌을 때,\n",
    "\n",
    "여행을 떠날 수 있는 그룹 수의 최댓값을 구하는 프로그램을 작성하세요.\n",
    "\n",
    "입력조건 \n",
    "첫줄에 모험가의 수 N이 주어짐 (1<=N<=100,000)\n",
    "둘째 줄에 각 모험가의 공포도 값을 N이하의 자연수로 주어지며 각 자연수는 공백으로 구분함\n",
    "\n",
    "출력조건\n",
    "여행을 떠날 수 있는 그룹 수의 최댓값을 출력합니다.\n",
    "\n",
    "입력예시\n",
    "5\n",
    "2 3 1 2 2\n",
    "\n",
    "출력예시\n",
    "2"
   ]
  },
  {
   "cell_type": "code",
   "execution_count": 15,
   "metadata": {},
   "outputs": [
    {
     "name": "stdout",
     "output_type": "stream",
     "text": [
      "2\n"
     ]
    }
   ],
   "source": [
    "n = int(input())\n",
    "scared= list(map(int,input().split()))\n",
    "\n",
    "scared.sort() #해당 문제는 공포도가 낮은 모험가부터 묶어주는것이 효율적임\n",
    "\n",
    "result = 0 # 그룹 수\n",
    "\n",
    "count= 0 #현재 그룹에 포함된 모험가의 수\n",
    "\n",
    "for i in scared:\n",
    "    count+=1\n",
    "    if count>= i : # 현재 그룹에 포함된 모험가의 수가 현재의 공포도 이상이라면 그룹 결성\n",
    "        result += 1\n",
    "        count = 0\n",
    "\n",
    "print(result)\n"
   ]
  },
  {
   "cell_type": "markdown",
   "metadata": {},
   "source": [
    "<h3>곱하기 혹은 더하기</h3>\n",
    "\n",
    "각 자리가 숫자(0부터 9)로만 이루어진 문자열 S가 주어졌을 때, 왼쪽부터 오른쪽으로 하나씩 모든 숫자를 확인하며 숫자 사이에 곱하기 혹은 더하기 연산자를 넣어 결과적으로 만들어질 수 있는 가장 큰 숫자를 구하는 프로그램을 만들어라. 단, 더하기 보다 곱하기를 먼저 계산하는 일반적인 사칙연산 방식과는 달리, 모든 연산은 왼쪽에서부터 순서대로 이루어진다고 가정한다.\n",
    "\n",
    "예를 들어, 02984라는 문자열이 주어진다면, 만들어질 수 있는 가장 큰 수는 순서대로 0+2 * 9 * 8 * 4 = 576 이다. 또한 만들어질 수 있는 가장 큰 수는 항상 20억 이하의 정수가 되도록 입력이 주어진다.\n",
    "\n",
    "입력 조건 \n",
    "첫째 줄에 여러 개의 숫자로 구서오딘 하나의 문자열 S가 주어짐 (1<=S의 길이 <=20)\n",
    "\n",
    "출력조건\n",
    "첫째 줄에 만들어질 수 있는 가장 큰 수를 출력한다\n",
    "\n",
    "입력예시1\n",
    "02984\n",
    "\n",
    "입력예시2\n",
    "567\n",
    "\n",
    "출력예시1\n",
    "576\n",
    "\n",
    "출력예시2\n",
    "210\n"
   ]
  },
  {
   "cell_type": "code",
   "execution_count": 35,
   "metadata": {},
   "outputs": [
    {
     "name": "stdout",
     "output_type": "stream",
     "text": [
      "210\n"
     ]
    }
   ],
   "source": [
    "a = input()\n",
    "result = 1\n",
    "for i in a:\n",
    "    i = int(i)\n",
    "\n",
    "    if i == 0 or i ==1:\n",
    "        result += i\n",
    "    # 0과 1 이 나온다면, 더해주는게 더 이득임\n",
    "        continue\n",
    "\n",
    "    result *= i\n",
    "\n",
    "\n",
    "print(result)\n",
    "        "
   ]
  },
  {
   "cell_type": "markdown",
   "metadata": {},
   "source": [
    "<h3>문자열 뒤집기</h3>\n",
    "\n",
    "다솜이는 0과 1로만 이루어진 문자열 S를 가지고 있다. 다솜이는 이 문자열 S에 있는 모든 숫자를 전부 같게 만드려고 한다. 다솜이가 할 수 있는 행동은 S에서 연속된 하나 이상의 숫자를 잡고 모두 뒤집는 것이다. 뒤집는 것은 1을 0으로, 0을 1로 바꾸는 것을 의미한다. 예를 들어, S = 0001100일 때는 다음과 같다.\n",
    "\n",
    "1. 전체를 뒤집으면 1110011이 된다.\n",
    "2. 4번째 문자부터 5번째 문자까지 뒤집으면 1111111이 되어서 두 번 만에 모두 같은 숫자로 만들 수 있다.\n",
    "\n",
    "하지만 처음부터 4번째, 5번째 문자열 00을 11로 뒤집으면 한 번만에 모두 같은 숫자로 만들 수 있다. 문자열 S가 주어질 때, 다솜이가 해야 하는 행동의 최소 횟수를 출력해라\n",
    "\n",
    "입력조건\n",
    "첫째줄에 0 과 1로만 이루어진 문자열 S가 주어짐. S의 길이는 100만보다 작다\n",
    "\n",
    "출력조건\n",
    "첫째줄에 다솜이가 해야하는 행동의 최소 횟수를 출력한다.\n",
    "\n",
    "입력예시\n",
    "0001100\n",
    "\n",
    "출력예시\n",
    "1"
   ]
  },
  {
   "cell_type": "code",
   "execution_count": 56,
   "metadata": {},
   "outputs": [
    {
     "name": "stdout",
     "output_type": "stream",
     "text": [
      "3\n"
     ]
    }
   ],
   "source": [
    "data =input()\n",
    "count0 =0 #전부 0 으로 바꾸는 경우\n",
    "count1 = 0 # 전부 1으로 바꾸는 경우\n",
    "\n",
    "#첫번째 원소에 대해 처리\n",
    "\n",
    "if data[0]=='1':\n",
    "    count0+=1\n",
    "else:\n",
    "    count1+=1\n",
    "\n",
    "#두번째 원소부터 모든 원소를 확인하며\n",
    "\n",
    "for i in range(len(data)-1):\n",
    "    if data[i] != data[i+1]:\n",
    "        #다음 수에서 1로 바뀌는 경우\n",
    "        if data[i+1]=='1':\n",
    "            count0+=1\n",
    "        #다음 수에서 0으로 바뀌는 경우\n",
    "        else:\n",
    "            count1+=1\n",
    "\n",
    "print(min(count0,count0))    \n",
    "\n"
   ]
  },
  {
   "cell_type": "code",
   "execution_count": null,
   "metadata": {},
   "outputs": [],
   "source": []
  },
  {
   "cell_type": "code",
   "execution_count": null,
   "metadata": {},
   "outputs": [],
   "source": [
    "11"
   ]
  }
 ],
 "metadata": {
  "interpreter": {
   "hash": "52ee2977380704a66854748a73250e0671a9318bd5b3fd45a3df9f851ae61629"
  },
  "kernelspec": {
   "display_name": "Python 3.8.5 64-bit ('tf': conda)",
   "language": "python",
   "name": "python3"
  },
  "language_info": {
   "codemirror_mode": {
    "name": "ipython",
    "version": 3
   },
   "file_extension": ".py",
   "mimetype": "text/x-python",
   "name": "python",
   "nbconvert_exporter": "python",
   "pygments_lexer": "ipython3",
   "version": "3.8.5"
  },
  "orig_nbformat": 4
 },
 "nbformat": 4,
 "nbformat_minor": 2
}
