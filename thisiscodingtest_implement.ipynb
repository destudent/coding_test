{
 "cells": [
  {
   "cell_type": "markdown",
   "metadata": {},
   "source": [
    "럭키스트레이트\n",
    "\n",
    "어떤 게임의 아웃복서 캐릭터에게는 럭키 스트레이트라는 기술이 존재한다. 이 기술은 매우 강력한 대신에 항상 사용할 수는 없으며, 현재 게임 내에서 점수가 특정 조건을 만족할 때만 사용할 수 있다.\n",
    "\n",
    "특정 조건이란 현재 캐릭터의 점수를 N이라고 할 때 점수 N을 자릿수를 기준으로 반으로 나누어 왼쪽 부분의 각 자릿수의 합과 오른쪽 부분의 각 자릿수의 합을 더한 값이 동일한 상황을 의미한다. 예를 들어 현재 점수가 123,402라면 왼쪽 부분의 각 자릿수의 합은 1+2+3, 오른쪽 부분의 각 자릿수의 합은 4+0+2이므로 두 합이 6으로 동일하여 럭키 스트레이트를 사용할 수 있다.\n",
    "\n",
    "현재 점수 N이 주어졌을 때, 럭키 스트레이트를 사용할 수 있는 상태인지 아닌지를 알려주는 프로그램을 작성하시오. 럭키 스트레이트를 사용할 수 있다면 \"LUCKY\"를, 사용할 수 없다면 \"READY\"라는 단어를 출력한다. 또한 점수 N의 자릿수는 항상 짝수 형태로만 주어진다. 예를 들어 자릿수가 5인 12,345와 같은 수는 입력으로 들어오지 않는다.\n",
    "\n",
    "입력조건\n",
    "첫째 줄에 점수 N이 정수로 주어진다. (10 ≤ N ≤ 99,999,999) 단, 점수 N의 자릿수는 항상 짝수 형태로만 주어진다.\n",
    "\n",
    "출력조건\n",
    "첫째 줄에 럭키 스트레이트를 사용할 수 있다면 \"LUCKY\"를, 사용할 수 없다면 \"READY\"라는 단어를 출력한다.\n",
    "\n",
    "\n",
    "입력예시\n",
    "123402\n",
    "\n",
    "출력예시\n",
    "LUCKY\n",
    "\n",
    "입력예시 2\n",
    "7755\n",
    "\n",
    "출력예시 2\n",
    "READY\n"
   ]
  },
  {
   "cell_type": "code",
   "execution_count": 20,
   "metadata": {},
   "outputs": [
    {
     "name": "stdout",
     "output_type": "stream",
     "text": [
      "LUCKY\n"
     ]
    }
   ],
   "source": [
    "n=input()\n",
    "a=int(len(n)/2)\n",
    "\n",
    "# n[:int(a)]\n",
    "\n",
    "# if n[:int(a)]==n[int(a)+1:]:\n",
    "#     print('LUCKY')\n",
    "# else:\n",
    "#     print('READY')\n",
    "\n",
    "b=0\n",
    "c=0\n",
    "for i in range(a):\n",
    "    b+=int(n[i])\n",
    "    c+=int(n[i+a])\n",
    "\n",
    "if b ==c:\n",
    "    print('LUCKY')\n",
    "else:\n",
    "    print('READY')\n",
    "\n"
   ]
  },
  {
   "cell_type": "markdown",
   "metadata": {},
   "source": [
    "문자열 재정렬\n",
    "\n",
    "알파벳 대문자와 숫자(0~9)로만 구성된 문자열이 입력으로 주어집니다. 이때 모든 알파벳을 오름차순으로 정렬하여 이어서 출력한 뒤에, 그 뒤에 모든 숫자를 더한 값을 이어서 출력합니다.\n",
    "\n",
    "예를 들어 K1KA5CB7 이라는 값이 들어오면 ABCKK13을 출력합니다.\n",
    "\n",
    "입력조건\n",
    "첫째 줄에 하나의 문자열 S가 주어집니다. (1 <= S의 길이 <= 10,000)\n",
    "\n",
    "출력조건\n",
    "첫째 줄에 문제에서 요구하는 정답을 출력합니다.\n",
    "\n",
    "입력예시1\n",
    "K1KA5CB7\n",
    "\n",
    "출력예시1\n",
    "ABCKK13\n"
   ]
  },
  {
   "cell_type": "code",
   "execution_count": 55,
   "metadata": {},
   "outputs": [
    {
     "name": "stdout",
     "output_type": "stream",
     "text": [
      "ABCKK13"
     ]
    }
   ],
   "source": [
    "n = input()\n",
    "alpha=[]\n",
    "num=0\n",
    "for i in n:\n",
    "    if i.isalpha():\n",
    "       alpha.append(i)\n",
    "    else :\n",
    "        num+=int(i)\n",
    "\n",
    "alpha.sort()\n",
    "alpha.append(num)\n",
    "\n",
    "for j in alpha:\n",
    "    print(j,end='')\n"
   ]
  },
  {
   "cell_type": "code",
   "execution_count": null,
   "metadata": {},
   "outputs": [],
   "source": []
  }
 ],
 "metadata": {
  "interpreter": {
   "hash": "52ee2977380704a66854748a73250e0671a9318bd5b3fd45a3df9f851ae61629"
  },
  "kernelspec": {
   "display_name": "Python 3.8.5 ('tf')",
   "language": "python",
   "name": "python3"
  },
  "language_info": {
   "codemirror_mode": {
    "name": "ipython",
    "version": 3
   },
   "file_extension": ".py",
   "mimetype": "text/x-python",
   "name": "python",
   "nbconvert_exporter": "python",
   "pygments_lexer": "ipython3",
   "version": "3.8.5"
  },
  "orig_nbformat": 4
 },
 "nbformat": 4,
 "nbformat_minor": 2
}
