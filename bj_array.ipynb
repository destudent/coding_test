{
 "cells": [
  {
   "cell_type": "markdown",
   "metadata": {},
   "source": [
    "수 정렬하기  \n",
    "  \n",
    "\n",
    "문제  \n",
    "N개의 수가 주어졌을 때, 이를 오름차순으로 정렬하는 프로그램을 작성하시오.  \n",
    "  \n",
    "입력  \n",
    "첫째 줄에 수의 개수 N(1 ≤ N ≤ 1,000)이 주어진다. 둘째 줄부터 N개의 줄에는 수 주어진다. 이 수는 절댓값이 1,000보다 작거나 같은 정수이다. 수는 중복되지 않는다.  \n",
    "  \n",
    "출력  \n",
    "첫째 줄부터 N개의 줄에 오름차순으로 정렬한 결과를 한 줄에 하나씩 출력한다.  \n",
    "  \n",
    "예제 입력 1   \n",
    "5  \n",
    "5  \n",
    "2  \n",
    "3  \n",
    "4  \n",
    "1  \n",
    "  \n",
    "예제 출력 1   \n",
    "1  \n",
    "2  \n",
    "3  \n",
    "4  \n",
    "5  "
   ]
  },
  {
   "cell_type": "code",
   "execution_count": 5,
   "metadata": {},
   "outputs": [
    {
     "name": "stdout",
     "output_type": "stream",
     "text": [
      "1\n",
      "2\n",
      "3\n",
      "4\n",
      "5\n"
     ]
    }
   ],
   "source": [
    "n = int(input())\n",
    "\n",
    "n_array=[]\n",
    "\n",
    "for i in range(n):\n",
    "    n_array.append(int(input()))\n",
    "\n",
    "n_array=sorted(n_array)\n",
    "for i in range(len(n_array)):\n",
    "    print(n_array[i])"
   ]
  },
  {
   "cell_type": "markdown",
   "metadata": {},
   "source": [
    "수 정렬하기 2  \n",
    "  \n",
    "문제  \n",
    "N개의 수가 주어졌을 때, 이를 오름차순으로 정렬하는 프로그램을 작성하시오.  \n",
    "  \n",
    "입력  \n",
    "첫째 줄에 수의 개수 N(1 ≤ N ≤ 1,000,000)이 주어진다. 둘째 줄부터 N개의 줄에는 수가 주어진다. 이 수는 절댓값이 1,000,000보다 작거나 같은 정수이다. 수는 중복되지 않는다.  \n",
    "  \n",
    "출력  \n",
    "첫째 줄부터 N개의 줄에 오름차순으로 정렬한 결과를 한 줄에 하나씩 출력한다.\n",
    "  \n",
    "예제 입력 1   \n",
    "5  \n",
    "5  \n",
    "4  \n",
    "3  \n",
    "2  \n",
    "1  \n",
    "  \n",
    "예제 출력 1   \n",
    "1  \n",
    "2  \n",
    "3  \n",
    "4  \n",
    "5  \n",
    "  "
   ]
  },
  {
   "cell_type": "code",
   "execution_count": 7,
   "metadata": {},
   "outputs": [
    {
     "name": "stdout",
     "output_type": "stream",
     "text": [
      "5\n",
      "4\n",
      "3\n",
      "2\n",
      "1\n"
     ]
    }
   ],
   "source": [
    "#이 방식으로 적용하면, python3에서는 초과가 된다.\n",
    "n = int(input())\n",
    "\n",
    "n_array=[]\n",
    "\n",
    "for i in range(n):\n",
    "    n_array.append(int(input()))\n",
    "\n",
    "n_array=sorted(n_array)\n",
    "for i in range(len(n_array)):\n",
    "    print(n_array[i])"
   ]
  },
  {
   "cell_type": "markdown",
   "metadata": {},
   "source": [
    "참고 출처 : https://velog.io/@uoayop/BOJ-2751-%EC%88%98-%EC%A0%95%EB%A0%AC%ED%95%98%EA%B8%B02Python\n",
    "\n",
    "해당 문제는 n이 1,000,000개 이므로 삽입정렬, 버블정렬은 사용할 수 없다.\n",
    "삽입정렬 시간복잡도:O(n^2)(최악일 때)\n",
    "버블정렬 시간복잡도:O(n^2)(최악일 때)\n",
    "\n",
    "따라서 O(nlogn) 이하인 정렬들을 사용해야한다.\n",
    "\n",
    "[병합정렬]\n",
    "\n",
    "1. 리스트 요소가 1개가 될때까지 나눈다.\n",
    "2. 분리한 왼쪽리스트, 오른쪽 리스트의 각각 첫번째 요소를 비교해 더 작은 값을 결과 리스트에 저장한다.\n",
    "3. 저장한 값은 리스트에서 지운다.\n",
    "4. 두 리스트 모두 요소가 하나도 안남을 때까지 반복한다."
   ]
  },
  {
   "cell_type": "markdown",
   "metadata": {},
   "source": [
    "![nn](merge-sort-concepts.png)"
   ]
  },
  {
   "cell_type": "markdown",
   "metadata": {},
   "source": [
    "Q) int(input)과 int(sys.stdin.readline().rstrip())의 차이점은?"
   ]
  },
  {
   "cell_type": "code",
   "execution_count": 19,
   "metadata": {},
   "outputs": [
    {
     "name": "stdout",
     "output_type": "stream",
     "text": [
      "1\n",
      "2\n",
      "3\n",
      "4\n",
      "5\n"
     ]
    }
   ],
   "source": [
    "import sys\n",
    "\n",
    "n=int(input())\n",
    "unsorted_list=[]\n",
    "sorted_list=[]\n",
    "\n",
    "# [divide]\n",
    "# 리스트 요소가 1개가 될때까지 나눔 / 왼쪽,오른쪽 merge\n",
    "def merge_sort(list):\n",
    "    if len(list) <= 1:\n",
    "        return list\n",
    "    mid = len(list) // 2\n",
    "    leftList = list[:mid]\n",
    "    rightList = list[mid:]\n",
    "    leftList = merge_sort(leftList)\n",
    "    rightList = merge_sort(rightList)\n",
    "    return merge(leftList, rightList)\n",
    "\n",
    "# [merge]\n",
    "#1. 분리한 왼쪽리스트, 오른쪽 리스트의 각각 첫번째 요소를 비교해 더 작은 값을 결과 리스트에 저장\n",
    "#2. 저장한 값은 리스트에서 지움. \n",
    "#3. 두 리스트 모두 요소가 하나도 안남을 때까지 반복\n",
    "def merge(left, right):\n",
    "    merged_list = []\n",
    "    l=h=0\n",
    "\n",
    "    while l < len(left) and h < len(right):\n",
    "        if (left[l] < right[h]):\n",
    "            merged_list.append(left[l])\n",
    "            l+=1\n",
    "        else:\n",
    "            merged_list.append(right[h])\n",
    "            h+=1\n",
    "    merged_list += left[l:] \n",
    "    merged_list += right[h:]\n",
    "    return merged_list\n",
    "\n",
    "for i in range(n):\n",
    "    num=int(input())\n",
    "    unsorted_list.append(num)\n",
    "\n",
    "sorted_list=merge_sort(unsorted_list)\n",
    "\n",
    "for i in sorted_list:\n",
    "    print(i)"
   ]
  },
  {
   "cell_type": "markdown",
   "metadata": {},
   "source": [
    "[힙정렬]  \n",
    "힙 정렬은 마지막 레벨을 제외한 모든 레벨이 꽉 채워진 완전이진트리를 기본으로 한다.  \n",
    "  \n",
    "완전이진트리를 1차열 배열로 표현하면 인덱스가 k인 노드의 왼쪽 자식 인덱스는 2k+1, 오른쪽 자식 인덱스는 2k+2  \n",
    "  \n",
    "1. 주어진 원소로 최대 힙 구성  \n",
    "2. 최대 힙의 루트노드 (배열 첫번째 요소) 와 말단노드 (배열 마지막 요소) 교환\n",
    "3. 새 루트 노드에 대해 최대 힙 구성  \n",
    "4. 원소의 개수만큼 2번,3번 반복  \n",
    "즉, 루트가 왼쪽 노드나 오른쪽 노드보다 작으면 위치를 바꿔준다.  "
   ]
  },
  {
   "cell_type": "markdown",
   "metadata": {},
   "source": [
    "![nn](maxheap-insertion.png)"
   ]
  },
  {
   "cell_type": "code",
   "execution_count": 27,
   "metadata": {},
   "outputs": [
    {
     "name": "stdout",
     "output_type": "stream",
     "text": [
      "heap_sort중 첫번째 for문 2\n",
      "heap_sort중 첫번째 for문 1\n",
      "heap_sort중 첫번째 for문 0\n",
      "[4, 4, 3, 2, 1, 5]\n",
      "[4, 2, 3, 1, 4, 5]\n",
      "[3, 2, 1, 4, 4, 5]\n",
      "[2, 1, 3, 4, 4, 5]\n",
      "[1, 2, 3, 4, 4, 5]\n",
      "1\n",
      "2\n",
      "3\n",
      "4\n",
      "4\n",
      "5\n"
     ]
    }
   ],
   "source": [
    "#참고 :https://lsjsj92.tistory.com/472\n",
    "#https://ratsgo.github.io/data%20structure&algorithm/2017/09/27/heapsort/\n",
    "\n",
    "import sys\n",
    "\n",
    "n=int(sys.stdin.readline().rstrip())\n",
    "# n = 5\n",
    "unsorted_list=[]\n",
    "sorted_list=[]\n",
    "\n",
    "def heapify(unsorted, index, heap_size):\n",
    "    largest = index\n",
    "    left_index = 2 * index + 1 \n",
    "    right_index = 2 * index + 2\n",
    "    # print(left_index)\n",
    "    # print(right_index)\n",
    "    if left_index < heap_size and unsorted[left_index] > unsorted[largest]: #힙 사이즈보다 작으며 부모노드보다 클 경우\n",
    "        largest = left_index # 큰값으로 인덱스를 바꿔줌\n",
    "    if right_index < heap_size and unsorted[right_index] > unsorted[largest]:\n",
    "        largest = right_index\n",
    "    #부모 노드의 인덱스 값이 바뀌었다면 자식노드의 값과 스위치\n",
    "    if largest != index: \n",
    "        unsorted[largest], unsorted[index] = unsorted[index], unsorted[largest]\n",
    "        heapify(unsorted, largest, heap_size)\n",
    "\n",
    "def heap_sort(unsorted):\n",
    "    n = len(unsorted)\n",
    "    # BUILD-MAX-HEAP (A) : 위의 1단계\n",
    "    # 인덱스 : (n을 2로 나눈 몫-1)~0\n",
    "    # 최초 힙 구성시 배열의 중간부터 시작하면 \n",
    "    # 이진트리 성질에 의해 모든 요소값을 \n",
    "    # 서로 한번씩 비교할 수 있게 됨 : O(n)\n",
    "    \n",
    "    for i in range(n // 2 - 1, -1, -1):#n//2-1의 뜻 : 자식이 있는 마지막 노드\n",
    "        print('heap_sort중 첫번째 for문',i)\n",
    "        heapify(unsorted, i, n)\n",
    "        \n",
    "\n",
    "\n",
    "    # Recurrent (B) : 2~4단계\n",
    "    # 한번 힙이 구성되면 개별 노드는\n",
    "    # 최악의 경우에도 트리의 높이(logn)\n",
    "    # 만큼의 자리 이동을 하게 됨\n",
    "    # 이런 노드들이 n개 있으므로 : O(nlogn)\n",
    "    for i in range(n - 1, 0, -1):\n",
    "        #루트 노드[0]을 기준으로 하나씩 살펴가며 정렬함\n",
    "        unsorted[0], unsorted[i] = unsorted[i], unsorted[0]\n",
    "        heapify(unsorted, 0, i)\n",
    "        print(unsorted)\n",
    "    return unsorted\n",
    "\n",
    "# for i in range(n):\n",
    "#     num=int(sys.stdin.readline())\n",
    "#     unsorted_list.append(num)\n",
    "unsorted_list = [1,2,3,4,4,5]\n",
    "\n",
    "sorted_list=heap_sort(unsorted_list)\n",
    "\n",
    "for i in sorted_list:\n",
    "    print(i)"
   ]
  },
  {
   "cell_type": "markdown",
   "metadata": {},
   "source": [
    "수 정렬하기 3  \n",
    "  \n",
    "문제  \n",
    "N개의 수가 주어졌을 때, 이를 오름차순으로 정렬하는 프로그램을 작성하시오.  \n",
    "  \n",
    "입력  \n",
    "첫째 줄에 수의 개수 N(1 ≤ N ≤ 10,000,000)이 주어진다. 둘째 줄부터 N개의 줄에는 수가 주어진다. 이 수는 10,000보다 작거나 같은 자연수이다.  \n",
    "  \n",
    "출력  \n",
    "첫째 줄부터 N개의 줄에 오름차순으로 정렬한 결과를 한 줄에 하나씩 출력한다.  \n",
    "  \n",
    "예제 입력 1   \n",
    "10  \n",
    "5  \n",
    "2  \n",
    "3  \n",
    "1  \n",
    "4  \n",
    "2  \n",
    "3  \n",
    "5  \n",
    "1  \n",
    "7  \n",
    "  \n",
    "예제 출력 1   \n",
    "1  \n",
    "1  \n",
    "2  \n",
    "2  \n",
    "3   \n",
    "3  \n",
    "4  \n",
    "5  \n",
    "5  \n",
    "7  "
   ]
  },
  {
   "cell_type": "code",
   "execution_count": 1,
   "metadata": {},
   "outputs": [
    {
     "name": "stdout",
     "output_type": "stream",
     "text": [
      "1\n",
      "2\n",
      "3\n",
      "4\n",
      "4\n",
      "5\n"
     ]
    }
   ],
   "source": [
    "#1트 실패\n",
    "#출처 : https://wook-2124.tistory.com/403\n",
    "\n",
    "import sys\n",
    "\n",
    "n = int(sys.stdin.readline())\n",
    "num_list = [0] * 10001 #최대 큰 자연수만큼의 list 생성\n",
    "\n",
    "for _ in range(n):\n",
    "    num_list[int(sys.stdin.readline())] += 1 #list의 index = 숫자의 크기. 100이면 list의 100번째 index에 저장함\n",
    "\n",
    "for i in range(10001):\n",
    "    if num_list[i] != 0: #해당 index가 0이 아니라면\n",
    "        for j in range(num_list[i]):\n",
    "            print(i) #있는 숫자 모두 출력"
   ]
  },
  {
   "cell_type": "markdown",
   "metadata": {},
   "source": [
    "통계학  \n",
    "\n",
    "시간 제한\t메모리 제한\t제출\t정답\t맞힌 사람\t정답 비율  \n",
    "2 초\t256 MB\t82699\t16055\t13067\t25.512%  \n",
    "  \n",
    "문제  \n",
    "수를 처리하는 것은 통계학에서 상당히 중요한 일이다. 통계학에서 N개의 수를 대표하는 기본 통계값에는 다음과 같은 것들이 있다. 단, N은 홀수라고 가정하자.  \n",
    "  \n",
    "산술평균 : N개의 수들의 합을 N으로 나눈 값  \n",
    "중앙값 : N개의 수들을 증가하는 순서로 나열했을 경우 그 중앙에 위치하는 값  \n",
    "최빈값 : N개의 수들 중 가장 많이 나타나는 값  \n",
    "범위 : N개의 수들 중 최댓값과 최솟값의 차이  \n",
    "N개의 수가 주어졌을 때, 네 가지 기본 통계값을 구하는 프로그램을 작성하시오.  \n",
    "  \n",
    "입력  \n",
    "첫째 줄에 수의 개수 N(1 ≤ N ≤ 500,000)이 주어진다. 단, N은 홀수이다.   그 다음 N개의 줄에는 정수들이 주어진다. 입력되는 정수의 절댓값은 4,000을 넘지 않는다.  \n",
    "  \n",
    "출력  \n",
    "첫째 줄에는 산술평균을 출력한다. 소수점 이하 첫째 자리에서 반올림한 값을 출력한다.  \n",
    "  \n",
    "둘째 줄에는 중앙값을 출력한다.  \n",
    "  \n",
    "셋째 줄에는 최빈값을 출력한다. 여러 개 있을 때에는 최빈값 중 두 번째로 작은 값을 출력한다.  \n",
    "  \n",
    "넷째 줄에는 범위를 출력한다.  \n",
    "  \n",
    "예제 입력 1   \n",
    "5  \n",
    "1  \n",
    "3  \n",
    "8  \n",
    "-2  \n",
    "2  \n",
    "  \n",
    "예제 출력 1   \n",
    "2  \n",
    "2  \n",
    "1  \n",
    "10  \n",
    "  \n",
    "예제 입력 2   \n",
    "1  \n",
    "4000  \n",
    "  \n",
    "예제 출력 2   \n",
    "4000  \n",
    "4000  \n",
    "4000  \n",
    "0  \n"
   ]
  },
  {
   "cell_type": "code",
   "execution_count": 43,
   "metadata": {},
   "outputs": [
    {
     "name": "stdout",
     "output_type": "stream",
     "text": [
      "-1.8\n",
      "-2\n",
      "-1\n",
      "2\n"
     ]
    }
   ],
   "source": [
    "#최빈값 1트 실패\n",
    "#참고 https://jiwon-coding.tistory.com/8\n",
    "\n",
    "import sys\n",
    "from collections import Counter\n",
    "\n",
    "\n",
    "n=int(sys.stdin.readline())\n",
    "num = []\n",
    "\n",
    "for i in range(n):\n",
    "    num.append(int(sys.stdin.readline()))\n",
    "\n",
    "num.sort()\n",
    "#평균\n",
    "print(round(sum(num)/n))\n",
    "\n",
    "\n",
    "#중앙값\n",
    "print(num[n//2])\n",
    "\n",
    "#최빈값 #난이도 급상승 \n",
    "cnt_li = Counter(num).most_common()\n",
    "if len(cnt_li) > 1 and cnt_li[0][1]==cnt_li[1][1]: #최빈값 2개 이상\n",
    "    print(cnt_li[1][0])\n",
    "else:\n",
    "    print(cnt_li[0][0])\n",
    "\n",
    "\n",
    "#범위 \n",
    "print(max(num)-min(num))\n",
    "#혹은 print(num[-1]-num[0])\n"
   ]
  },
  {
   "cell_type": "code",
   "execution_count": 1,
   "metadata": {},
   "outputs": [
    {
     "name": "stdout",
     "output_type": "stream",
     "text": [
      "[(1, 3), (2, 3), (4, 3), (3, 3)]\n"
     ]
    }
   ],
   "source": [
    "from collections import Counter\n",
    "a = [1,2,1,4,2,2,1,3,3,3,4,4]\n",
    "cnt_li = Counter(a).most_common()\n",
    "print(cnt_li)"
   ]
  },
  {
   "cell_type": "markdown",
   "metadata": {},
   "source": [
    "소트인사이드  \n",
    "  \n",
    "문제  \n",
    "배열을 정렬하는 것은 쉽다. 수가 주어지면, 그 수의 각 자리수를 내림차순으로 정렬해보자.  \n",
    "  \n",
    "입력  \n",
    "첫째 줄에 정렬하려고 하는 수 N이 주어진다. N은 1,000,000,000보다 작거나 같은 자연수이다.  \n",
    "  \n",
    "출력  \n",
    "첫째 줄에 자리수를 내림차순으로 정렬한 수를 출력한다.  \n",
    "  \n",
    "예제 입력 1   \n",
    "2143  \n",
    "예제 출력 1   \n",
    "4321  "
   ]
  },
  {
   "cell_type": "code",
   "execution_count": 24,
   "metadata": {},
   "outputs": [
    {
     "name": "stdout",
     "output_type": "stream",
     "text": [
      "999999998"
     ]
    }
   ],
   "source": [
    "import sys\n",
    "\n",
    "# n = sys.stdin.readline().rstrip()\n",
    "# n=list(map(int,input().split()))\n",
    "n=input()\n",
    "num=[]\n",
    "for i in n:\n",
    "    num.append(int(i))\n",
    "num=sorted(num,reverse=1)\n",
    "\n",
    "for i in num:\n",
    "    print(i,end='')\n",
    "\n"
   ]
  },
  {
   "cell_type": "markdown",
   "metadata": {},
   "source": [
    "좌표정렬하기  \n",
    "  \n",
    "문제  \n",
    "2차원 평면 위의 점 N개가 주어진다. 좌표를 x좌표가 증가하는 순으로, x좌표가 같으면 y좌표가 증가하는 순서로 정렬한 다음 출력하는 프로그램을 작성하시오.  \n",
    "  \n",
    "입력  \n",
    "첫째 줄에 점의 개수 N (1 ≤ N ≤ 100,000)이 주어진다. 둘째 줄부터 N개의 줄에는 i번점의 위치 xi와 yi가 주어진다. (-100,000 ≤ xi, yi ≤ 100,000) 좌표는 항상 정수이고, 위치가 같은 두 점은 없다.  \n",
    "  \n",
    "출력  \n",
    "첫째 줄부터 N개의 줄에 점을 정렬한 결과를 출력한다.  \n",
    "  \n",
    "예제 입력 1   \n",
    "5  \n",
    "3 4  \n",
    "1 1  \n",
    "1 -1  \n",
    "2 2  \n",
    "3 3  \n",
    "예제 출력 1   \n",
    "1 -1  \n",
    "1 1  \n",
    "2 2  \n",
    "3 3  \n",
    "3 4  "
   ]
  },
  {
   "cell_type": "code",
   "execution_count": 12,
   "metadata": {},
   "outputs": [
    {
     "name": "stdout",
     "output_type": "stream",
     "text": [
      "1 2\n",
      "1 3\n",
      "1 4\n"
     ]
    }
   ],
   "source": [
    "import sys\n",
    "\n",
    "# n = int(sys.stdin.readline())\n",
    "n= int(input())\n",
    "numbers=[]\n",
    "for i in range(n):\n",
    "    numbers.append(list(map(int,input().split())))\n",
    "\n",
    "numbers.sort()\n",
    "\n",
    "for i in range(len(numbers)):\n",
    "    print(numbers[i][0],numbers[i][1])\n",
    "    "
   ]
  },
  {
   "cell_type": "markdown",
   "metadata": {},
   "source": [
    "좌표 정렬하기 2  \n",
    "  \n",
    "문제  \n",
    "2차원 평면 위의 점 N개가 주어진다. 좌표를 y좌표가 증가하는 순으로, y좌표가 같으면 x좌표가 증가하는 순서로 정렬한 다음 출력하는 프로그램을 작성하시오.  \n",
    "  \n",
    "입력  \n",
    "첫째 줄에 점의 개수 N (1 ≤ N ≤ 100,000)이 주어진다. 둘째 줄부터 N개의 줄에는 i번점의 위치 xi와 yi가 주어진다. (-100,000 ≤ xi, yi ≤ 100,000) 좌표는 항상 정수이고, 위치가 같은 두 점은 없다.  \n",
    "  \n",
    "출력  \n",
    "첫째 줄부터 N개의 줄에 점을 정렬한 결과를 출력한다.  \n",
    "  \n",
    "예제 입력 1   \n",
    "5  \n",
    "0 4  \n",
    "1 2  \n",
    "1 -1  \n",
    "2 2  \n",
    "3 3  \n",
    "  \n",
    "예제 출력 1   \n",
    "1 -1  \n",
    "1 2  \n",
    "2 2  \n",
    "3 3  \n",
    "0 4  \n"
   ]
  },
  {
   "cell_type": "code",
   "execution_count": 15,
   "metadata": {},
   "outputs": [
    {
     "name": "stdout",
     "output_type": "stream",
     "text": [
      "1 -1\n",
      "1 2\n",
      "2 2\n",
      "3 3\n",
      "0 4\n"
     ]
    }
   ],
   "source": [
    "\n",
    "n= int(input())\n",
    "numbers=[]\n",
    "for i in range(n):\n",
    "    x,y=map(int,input().split())\n",
    "    numbers.append([y,x])\n",
    "\n",
    "numbers.sort()\n",
    "\n",
    "for y,x in numbers:\n",
    "    print(x,y)\n",
    "    "
   ]
  },
  {
   "cell_type": "markdown",
   "metadata": {},
   "source": [
    "단어 정렬  \n",
    "  \n",
    "문제  \n",
    "알파벳 소문자로 이루어진 N개의 단어가 들어오면 아래와 같은 조건에 따라 정렬하는 프로그램을 작성하시오.  \n",
    "  \n",
    "길이가 짧은 것부터  \n",
    "길이가 같으면 사전 순으로  \n",
    "입력  \n",
    "첫째 줄에 단어의 개수 N이 주어진다. (1 ≤ N ≤ 20,000) 둘째 줄부터 N개의 줄에 걸쳐 알파벳 소문자로 이루어진 단어가 한 줄에 하나씩 주어진다. 주어지는 문자열의 길이는 50을 넘지 않는다.  \n",
    "  \n",
    "출력  \n",
    "조건에 따라 정렬하여 단어들을 출력한다. 단, 같은 단어가 여러 번 입력된 경우에는 한 번씩만 출력한다.  \n",
    "  \n",
    "예제 입력 1   \n",
    "13  \n",
    "but  \n",
    "i  \n",
    "wont  \n",
    "hesitate  \n",
    "no  \n",
    "more  \n",
    "no  \n",
    "more  \n",
    "it  \n",
    "cannot  \n",
    "wait  \n",
    "im  \n",
    "yours  \n",
    "  \n",
    "예제 출력 1   \n",
    "i  \n",
    "im  \n",
    "it  \n",
    "no  \n",
    "but  \n",
    "more  \n",
    "wait  \n",
    "wont  \n",
    "yours  \n",
    "cannot  \n",
    "hesitate  "
   ]
  },
  {
   "cell_type": "code",
   "execution_count": 8,
   "metadata": {},
   "outputs": [
    {
     "name": "stdout",
     "output_type": "stream",
     "text": [
      "i\n",
      "im\n",
      "it\n",
      "no\n",
      "but\n",
      "more\n",
      "wait\n",
      "wont\n",
      "yours\n",
      "cannot\n",
      "hesitate\n"
     ]
    }
   ],
   "source": [
    "#1트 실패\n",
    "#https://wook-2124.tistory.com/468\n",
    "\n",
    "n= int(input())\n",
    "word=[]\n",
    "\n",
    "for i in range(n):\n",
    "    word.append(input())\n",
    "\n",
    "set_word = list(set(word))#중복제거\n",
    "set_word.sort(key=len)\n",
    "\n",
    "\n",
    "\n",
    "for i in set_word:\n",
    "    print(i)"
   ]
  },
  {
   "cell_type": "code",
   "execution_count": 10,
   "metadata": {},
   "outputs": [
    {
     "name": "stdout",
     "output_type": "stream",
     "text": [
      "i\n",
      "im\n",
      "it\n",
      "no\n",
      "but\n",
      "more\n",
      "wait\n",
      "wont\n",
      "yours\n",
      "cannot\n",
      "hesitate\n"
     ]
    }
   ],
   "source": [
    "n = int(input())\n",
    "\n",
    "word = []\n",
    "for i in range(n):\n",
    "    word.append(input())\n",
    "\n",
    "set_word = list(set(word))\n",
    "\n",
    "sort_word = []\n",
    "for i in set_word:\n",
    "    sort_word.append((len(i),i))\n",
    "\n",
    "result= sorted(sort_word)\n",
    "\n",
    "for len_word, word in result:\n",
    "    print(word)"
   ]
  },
  {
   "cell_type": "markdown",
   "metadata": {},
   "source": [
    "<h3>나이순 정렬</h3>\n",
    "\n",
    "문제\n",
    "온라인 저지에 가입한 사람들의 나이와 이름이 가입한 순서대로 주어진다. 이때, 회원들을 나이가 증가하는 순으로, 나이가 같으면 먼저 가입한 사람이 앞에 오는 순서로 정렬하는 프로그램을 작성하시오.\n",
    "\n",
    "입력\n",
    "첫째 줄에 온라인 저지 회원의 수 N이 주어진다. (1 ≤ N ≤ 100,000)\n",
    "\n",
    "둘째 줄부터 N개의 줄에는 각 회원의 나이와 이름이 공백으로 구분되어 주어진다. 나이는 1보다 크거나 같으며, 200보다 작거나 같은 정수이고, 이름은 알파벳 대소문자로 이루어져 있고, 길이가 100보다 작거나 같은 문자열이다. 입력은 가입한 순서로 주어진다.\n",
    "\n",
    "출력\n",
    "첫째 줄부터 총 N개의 줄에 걸쳐 온라인 저지 회원을 나이 순, 나이가 같으면 가입한 순으로 한 줄에 한 명씩 나이와 이름을 공백으로 구분해 출력한다.\n",
    "\n",
    "예제 입력 1   \n",
    "3  \n",
    "21 Junkyu  \n",
    "21 Dohyun  \n",
    "20 Sunyoung  \n",
    "  \n",
    "예제 출력 1   \n",
    "20 Sunyoung  \n",
    "21 Junkyu  \n",
    "21 Dohyun  "
   ]
  },
  {
   "cell_type": "code",
   "execution_count": 32,
   "metadata": {},
   "outputs": [
    {
     "name": "stdout",
     "output_type": "stream",
     "text": [
      "20   Sunyoung\n",
      "21   Junkyu\n",
      "21   Dohyun\n"
     ]
    }
   ],
   "source": [
    "n=int(input())\n",
    "year_name = []\n",
    "\n",
    "for i in range(n):\n",
    "\n",
    "    year_name.append([input().split(),i])\n",
    "\n",
    "year_name.sort()\n",
    "\n",
    "# print(year_name)\n",
    "a = year_name[0]\n",
    "for i in range(len(year_name)):\n",
    "    for j in range(i+1,len(year_name)):\n",
    "        if year_name[i][0][0] == year_name[j][0][0]:\n",
    "            if year_name[i][1]>year_name[j][1]:\n",
    "                year_name[i],year_name[j]=year_name[j],year_name[i]\n",
    "                \n",
    "                # print(year_name,'왜안바뀌누',i,'아이',j,'제이')\n",
    "\n",
    "for i in range(len(year_name)):\n",
    "    print(year_name[i][0][0],' ',year_name[i][0][1])\n",
    "\n",
    "#시간초과뜸.."
   ]
  },
  {
   "cell_type": "code",
   "execution_count": 34,
   "metadata": {},
   "outputs": [
    {
     "name": "stdout",
     "output_type": "stream",
     "text": [
      "20 sunyoung\n",
      "21 junkyu\n",
      "21 dohyun\n"
     ]
    }
   ],
   "source": [
    "#모범답안\n",
    "#https://assaeunji.github.io/python/2020-05-05-bj10814/\n",
    "n_members = int(input())\n",
    "\n",
    "member_list = []\n",
    "for _ in range(n_members):\n",
    "    (x,y) = input().split()\n",
    "    member_list.append((int(x),y))\n",
    "\n",
    "\n",
    "sorted_list = sorted(member_list,key=lambda x: x[0])\n",
    "#나이로만 정렬함\n",
    "\n",
    "for i in sorted_list:\n",
    "    print(i[0], i[1])    "
   ]
  },
  {
   "cell_type": "markdown",
   "metadata": {},
   "source": [
    "<h3>좌표압축</h3>\n",
    "\n",
    "문제  \n",
    "수직선 위에 N개의 좌표 X1, X2, ..., XN이 있다. 이 좌표에 좌표 압축을 적용하려고 한다.  \n",
    "  \n",
    "Xi를 좌표 압축한 결과 X'i의 값은 Xi > Xj를 만족하는 서로 다른 좌표의 개수와 같아야 한다.  \n",
    "  \n",
    "X1, X2, ..., XN에 좌표 압축을 적용한 결과 X'1, X'2, ..., X'N를 출력해보자.  \n",
    "  \n",
    "입력  \n",
    "첫째 줄에 N이 주어진다.  \n",
    "  \n",
    "둘째 줄에는 공백 한 칸으로 구분된 X1, X2, ..., XN이 주어진다.  \n",
    "  \n",
    "출력  \n",
    "첫째 줄에 X'1, X'2, ..., X'N을 공백 한 칸으로 구분해서 출력한다.  \n",
    "  \n",
    "제한   \n",
    "1 ≤ N ≤ 1,000,000   \n",
    "-109 ≤ Xi ≤ 109  \n",
    "  \n",
    "예제 입력 1   \n",
    "5  \n",
    "2 4 -10 4 -9  \n",
    "  \n",
    "예제 출력 1   \n",
    "2 3 0 3 1  \n",
    "  \n",
    "예제 입력 2   \n",
    "6  \n",
    "1000 999 1000 999 1000 999  \n",
    "  \n",
    "예제 출력 2   \n",
    "1 0 1 0 1 0  "
   ]
  },
  {
   "cell_type": "code",
   "execution_count": 46,
   "metadata": {},
   "outputs": [
    {
     "name": "stdout",
     "output_type": "stream",
     "text": [
      "[2, 4, -10, 4, -9]\n",
      "{-10: 0, -9: 1, 2: 2, 4: 3}\n",
      "2 3 0 3 1 "
     ]
    }
   ],
   "source": [
    "#1트 실패\n",
    "#https://gudwns1243.tistory.com/52\n",
    "\n",
    "n = int(input())\n",
    "numbers = list(map(int,input().split()))\n",
    "\n",
    "numbers_ = sorted(list(set(numbers)))\n",
    "\n",
    "dic = {numbers_[i] : i for i in range(len(numbers_))}\n",
    "# print(numbers)\n",
    "# print(dic)\n",
    "for i in numbers:\n",
    "    print(dic[i],end=' ')"
   ]
  },
  {
   "cell_type": "code",
   "execution_count": null,
   "metadata": {},
   "outputs": [],
   "source": []
  }
 ],
 "metadata": {
  "interpreter": {
   "hash": "52ee2977380704a66854748a73250e0671a9318bd5b3fd45a3df9f851ae61629"
  },
  "kernelspec": {
   "display_name": "Python 3.8.5 ('tf')",
   "language": "python",
   "name": "python3"
  },
  "language_info": {
   "codemirror_mode": {
    "name": "ipython",
    "version": 3
   },
   "file_extension": ".py",
   "mimetype": "text/x-python",
   "name": "python",
   "nbconvert_exporter": "python",
   "pygments_lexer": "ipython3",
   "version": "3.8.5"
  },
  "orig_nbformat": 4
 },
 "nbformat": 4,
 "nbformat_minor": 2
}
