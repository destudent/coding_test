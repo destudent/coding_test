{
 "cells": [
  {
   "cell_type": "markdown",
   "metadata": {},
   "source": [
    "팩토리얼  \n",
    "  \n",
    "문제  \n",
    "0보다 크거나 같은 정수 N이 주어진다. 이때, N!을 출력하는 프로그램을 작성하시오.  \n",
    "  \n",
    "입력  \n",
    "첫째 줄에 정수 N(0 ≤ N ≤ 12)이 주어진다.  \n",
    "  \n",
    "출력  \n",
    "첫째 줄에 N!을 출력한다.  \n",
    "  \n",
    "예제 입력 1   \n",
    "10  \n",
    "  \n",
    "예제 출력 1   \n",
    "3628800  "
   ]
  },
  {
   "cell_type": "code",
   "execution_count": 32,
   "metadata": {},
   "outputs": [
    {
     "name": "stdout",
     "output_type": "stream",
     "text": [
      "3628800\n"
     ]
    }
   ],
   "source": [
    "n = int(input())\n",
    "\n",
    "def factorial(x):\n",
    "    total=1\n",
    "    for i in range(x+1):\n",
    "        if i ==0:\n",
    "            total*=1\n",
    "        else:\n",
    "            total*=i\n",
    "    return total\n",
    "\n",
    "print(factorial(n))"
   ]
  },
  {
   "cell_type": "markdown",
   "metadata": {},
   "source": [
    "피보나치수 5  \n",
    "  \n",
    "피보나치 수는 0과 1로 시작한다. 0번째 피보나치 수는 0이고, 1번째 피보나치 수는 1이다. 그 다음 2번째 부터는 바로 앞 두 피보나치 수의 합이 된다.  \n",
    "  \n",
    "이를 식으로 써보면 Fn = Fn-1 + Fn-2 (n ≥ 2)가 된다.  \n",
    "  \n",
    "n=17일때 까지 피보나치 수를 써보면 다음과 같다.  \n",
    "  \n",
    "0, 1, 1, 2, 3, 5, 8, 13, 21, 34, 55, 89, 144, 233, 377, 610, 987, 1597  \n",
    "   \n",
    "n이 주어졌을 때, n번째 피보나치 수를 구하는 프로그램을 작성하시오.  \n",
    "\n",
    "  \n",
    "입력  \n",
    "첫째 줄에 n이 주어진다. n은 20보다 작거나 같은 자연수 또는 0이다.  \n",
    "\n",
    "출력  \n",
    "첫째 줄에 n번째 피보나치 수를 출력한다.  \n",
    "  \n",
    "예제 입력 1   \n",
    "10  \n",
    "  \n",
    "예제 출력 1   \n",
    "55  "
   ]
  },
  {
   "cell_type": "code",
   "execution_count": 52,
   "metadata": {},
   "outputs": [
    {
     "name": "stdout",
     "output_type": "stream",
     "text": [
      "55\n"
     ]
    }
   ],
   "source": [
    "n=int(input())\n",
    "\n",
    "def fibonacci(n):\n",
    "    result=0\n",
    "    if n == 0:\n",
    "        return 0\n",
    "    elif n == 1:\n",
    "        return 1\n",
    "    else:\n",
    "        result=fibonacci(n-1)+fibonacci(n-2) # keypoint!\n",
    "    return result\n",
    "\n",
    "print(fibonacci(n))\n"
   ]
  },
  {
   "cell_type": "markdown",
   "metadata": {},
   "source": [
    "별찍기 -10  \n",
    "  \n",
    "재귀적인 패턴으로 별을 찍어 보자. N이 3의 거듭제곱(3, 9, 27, ...)이라고 할 때, 크기 N의 패턴은 N×N 정사각형 모양이다.  \n",
    "  \n",
    "크기 3의 패턴은 가운데에 공백이 있고, 가운데를 제외한 모든 칸에 별이 하나씩 있는 패턴이다.  \n",
    "  \n",
    "***  \n",
    "* *  \n",
    "***  \n",
    "N이 3보다 클 경우, 크기 N의 패턴은 공백으로 채워진 가운데의 (N/3)×(N/3) 정사각형을 크기 N/3의 패턴으로 둘러싼 형태이다. 예를 들어 크기 27의 패턴은 예제 출력 1과 같다.  \n",
    "  \n",
    "입력  \n",
    "첫째 줄에 N이 주어진다. N은 3의 거듭제곱이다. 즉 어떤 정수 k에 대해 N=3k이며, 이때 1 ≤ k < 8이다.  \n",
    "  \n",
    "출력  \n",
    "첫째 줄부터 N번째 줄까지 별을 출력한다.  \n",
    "  \n",
    "예제 입력 1   \n",
    "27  \n",
    "\n",
    "예제 출력 1   \n",
    "***************************  \n",
    "* ** ** ** ** ** ** ** ** *  \n",
    "***************************  \n",
    "***   ******   ******   ***  \n",
    "* *   * ** *   * ** *   * *  \n",
    "***   ******   ******   ***  \n",
    "***************************  \n",
    "* ** ** ** ** ** ** ** ** *  \n",
    "***************************  \n",
    "*********         *********  \n",
    "* ** ** *         * ** ** *  \n",
    "*********         *********  \n",
    "***   ***         ***   ***  \n",
    "* *   * *         * *   * *  \n",
    "***   ***         ***   ***  \n",
    "*********         *********  \n",
    "* ** ** *         * ** ** *  \n",
    "*********         *********  \n",
    "***************************  \n",
    "* ** ** ** ** ** ** ** ** *  \n",
    "***************************  \n",
    "***   ******   ******   ***  \n",
    "* *   * ** *   * ** *   * *  \n",
    "***   ******   ******   ***  \n",
    "***************************  \n",
    "* ** ** ** ** ** ** ** ** *  \n",
    "***************************  \n",
    "  "
   ]
  },
  {
   "cell_type": "code",
   "execution_count": 11,
   "metadata": {},
   "outputs": [
    {
     "name": "stdout",
     "output_type": "stream",
     "text": [
      "*********\n",
      "* ** ** *\n",
      "*********\n",
      "***   ***\n",
      "* *   * *\n",
      "***   ***\n",
      "*********\n",
      "* ** ** *\n",
      "*********\n"
     ]
    }
   ],
   "source": [
    "#1트 실패 \n",
    "#https://readytoearndon.tistory.com/11\n",
    "# 별들을 만들 함수\n",
    "\n",
    "def get_stars(n):\n",
    "    matrix = []\n",
    "    for i in range(3 * len(n)):#9를 넣는다면\n",
    "        if i // len(n) == 1: #9일때만 1이 된다.\n",
    "            matrix.append(n[i % len(n)] + \" \" * len(n) + n[i % len(n)])#1번돌았을 때 '***   ***', '* *   * *', '***   ***',\n",
    "            #윗줄이 키포인트. 비어있는곳을 표현함. star의 길이는 처음엔 3이며 e로인한 루프를 돌때마다 해당 패턴이 증가함\n",
    "        else:\n",
    "            matrix.append(n[i % len(n)] * 3)\n",
    "    return matrix\n",
    " \n",
    " \n",
    "star = [\"***\", \"* *\", \"***\"]\n",
    "n = int(input())\n",
    "e = 0\n",
    "while n != 3:\n",
    "    n = int(n / 3)\n",
    "    e += 1\n",
    " \n",
    "for i in range(e):\n",
    "    star = get_stars(star)\n",
    "\n",
    "for i in star:\n",
    "    print(i)\n",
    "\n"
   ]
  },
  {
   "cell_type": "markdown",
   "metadata": {},
   "source": [
    "하노이탑  \n",
    "  \n",
    "세 개의 장대가 있고 첫 번째 장대에는 반경이 서로 다른 n개의 원판이 쌓여 있다. 각 원판은 반경이 큰 순서대로 쌓여있다. 이제 수도승들이 다음 규칙에 따라 첫 번째 장대에서 세 번째 장대로 옮기려 한다.  \n",
    "  \n",
    "한 번에 한 개의 원판만을 다른 탑으로 옮길 수 있다.  \n",
    "쌓아 놓은 원판은 항상 위의 것이 아래의 것보다 작아야 한다.  \n",
    "이 작업을 수행하는데 필요한 이동 순서를 출력하는 프로그램을 작성하라. 단, 이동 횟수는 최소가 되어야 한다.  \n",
    "  \n",
    "아래 그림은 원판이 5개인 경우의 예시이다.  \n",
    "  \n",
    "입력  \n",
    "첫째 줄에 첫 번째 장대에 쌓인 원판의 개수 N (1 ≤ N ≤ 20)이 주어진다.  \n",
    "  \n",
    "출력  \n",
    "첫째 줄에 옮긴 횟수 K를 출력한다.  \n",
    "  \n",
    "두 번째 줄부터 수행 과정을 출력한다. 두 번째 줄부터 K개의 줄에 걸쳐 두 정수 A B를 빈칸을 사이에 두고 출력하는데, 이는 A번째 탑의 가장 위에 있는 원판을 B번째 탑의 가장 위로 옮긴다는 뜻이다.  \n",
    "  \n",
    "예제 입력 1   \n",
    "3  \n",
    "예제 출력 1   \n",
    "7  \n",
    "1 3  \n",
    "1 2  \n",
    "3 2  \n",
    "1 3  \n",
    "2 1  \n",
    "2 3  \n",
    "1 3  "
   ]
  },
  {
   "cell_type": "code",
   "execution_count": 38,
   "metadata": {},
   "outputs": [
    {
     "name": "stdout",
     "output_type": "stream",
     "text": [
      "7\n",
      "1 3\n",
      "1 2\n",
      "3 2\n",
      "1 3\n",
      "2 1\n",
      "2 3\n",
      "1 3\n"
     ]
    }
   ],
   "source": [
    "#1트 실패\n",
    "#https://leedakyeong.tistory.com/entry/%EB%B0%B1%EC%A4%80-python-11729%EB%B2%88-%ED%95%98%EB%85%B8%EC%9D%B4-%ED%83%91-%EC%9D%B4%EB%8F%99-%EC%88%9C%EC%84%9Chanoi-top-in-python\n",
    "\n",
    "move=[]\n",
    "def hanoi(n,a,b,c): #\n",
    "    if n ==1:\n",
    "        move.append([a,c])\n",
    "    else :\n",
    "        hanoi(n-1,a,c,b) #c와b가 계속해서 교차한다 :n이 짝수일때는 2번으로 먼저이동,홀수일때는 3번으로 먼저 이동\n",
    "        move.append([a,c])\n",
    "        hanoi(n-1,b,a,c)\n",
    "hanoi(int(input()),1,2,3)\n",
    "print(len(move))\n",
    "\n",
    "for i in range(len(move)):\n",
    "    print(move[i][0],end=' ')\n",
    "    print(move[i][1])"
   ]
  },
  {
   "cell_type": "markdown",
   "metadata": {},
   "source": [
    "n=3일때,  \n",
    "  \n",
    "hanoi(3,1,2,3)  \n",
    "->hanoi(2,1,3,2) 호출  \n",
    "-->hanoi(1,1,2,3) 호출  \n",
    "--->move.append(1,3)  \n",
    "-->move.append(1,2)  \n",
    "-->hanoi(1,3,1,2) 호출  \n",
    "--->move.append(3,2)  \n",
    "->move.append(1,3)  \n",
    "->hanoi(2,2,1,3) 호출  \n",
    "-->hanoi(1,2,3,1) 호출  \n",
    "--->move.append(2,1)  \n",
    "-->move.append(2,3)  \n",
    "-->hanoi(1,1,2,3) 호출  \n",
    "--->move.append(1,3)  \n",
    "\n"
   ]
  },
  {
   "cell_type": "markdown",
   "metadata": {},
   "source": [
    "문자열 재정렬\n",
    "\n",
    "알파벳 대문자와 숫자(0~9)로만 구성된 문자열이 입력으로 주어집니다. 이때 모든 알파벳을 오름차순으로 정렬하여 이어서 출력한 뒤에, 그 뒤에 모든 숫자를 더한 값을 이어서 출력합니다.\n",
    "\n",
    "예를 들어 K1KA5CB7 이라는 값이 들어오면 ABCKK13을 출력합니다.\n",
    "\n",
    "입력조건\n",
    "첫째 줄에 하나의 문자열 S가 주어집니다. (1 <= S의 길이 <= 10,000)\n",
    "\n",
    "출력조건\n",
    "첫째 줄에 문제에서 요구하는 정답을 출력합니다.\n",
    "\n",
    "입력예시1\n",
    "K1KA5CB7\n",
    "\n",
    "출력예시1\n",
    "ABCKK13"
   ]
  },
  {
   "cell_type": "code",
   "execution_count": null,
   "metadata": {},
   "outputs": [],
   "source": [
    "n = input()\n",
    "alpha=[]\n",
    "num=0\n",
    "for i in n:\n",
    "    if i.isalpha():\n",
    "       alpha.append(i)\n",
    "    else :\n",
    "        num+=int(i)\n",
    "\n",
    "alpha.sort()\n",
    "alpha.append(num)\n",
    "\n",
    "for j in alpha:\n",
    "    print(j,end='')\n"
   ]
  }
 ],
 "metadata": {
  "interpreter": {
   "hash": "52ee2977380704a66854748a73250e0671a9318bd5b3fd45a3df9f851ae61629"
  },
  "kernelspec": {
   "display_name": "Python 3.8.5 ('tf')",
   "language": "python",
   "name": "python3"
  },
  "language_info": {
   "codemirror_mode": {
    "name": "ipython",
    "version": 3
   },
   "file_extension": ".py",
   "mimetype": "text/x-python",
   "name": "python",
   "nbconvert_exporter": "python",
   "pygments_lexer": "ipython3",
   "version": "3.8.5"
  },
  "orig_nbformat": 4
 },
 "nbformat": 4,
 "nbformat_minor": 2
}
